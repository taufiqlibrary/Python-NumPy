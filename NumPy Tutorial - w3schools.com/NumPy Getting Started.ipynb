{
 "cells": [
  {
   "cell_type": "markdown",
   "id": "82a8df9e",
   "metadata": {},
   "source": [
    "# **NumPy Getting Started**\n",
    "\n",
    "**Installation of NumPy**\n",
    "\n",
    "If you have Python and PIP already installed on a system, then installation of NumPy is very easy.\n",
    "\n",
    "Install it using this command:\n",
    "C:\\Users\\Your Name>pip install numpy\n",
    "\n",
    "If this command fails, then use a python distribution that already has NumPy installed like, Anaconda, Spyder etc.\n",
    "\n",
    "**Import NumPy**\n",
    "\n",
    "Once NumPy is installed, import it in your applications by adding the import keyword:"
   ]
  },
  {
   "cell_type": "code",
   "execution_count": 1,
   "id": "2928ddba",
   "metadata": {},
   "outputs": [],
   "source": [
    "import numpy"
   ]
  },
  {
   "cell_type": "markdown",
   "id": "31aac8d9",
   "metadata": {},
   "source": [
    "Now NumPy is imported and ready to use"
   ]
  },
  {
   "cell_type": "code",
   "execution_count": 2,
   "id": "75245925",
   "metadata": {},
   "outputs": [
    {
     "name": "stdout",
     "output_type": "stream",
     "text": [
      "[1 2 3 4 5]\n"
     ]
    }
   ],
   "source": [
    "import numpy\n",
    "arr = numpy.array([1, 2, 3, 4, 5])\n",
    "print(arr)"
   ]
  },
  {
   "cell_type": "markdown",
   "id": "34088b9d",
   "metadata": {},
   "source": [
    "**NumPy as np**\n",
    "\n",
    "NumPy is usually imported under the np alias.\n",
    "\n",
    "**alias:** In Python alias are an alternate name for referring to the same thing.\n",
    "\n",
    "Create an alias with the as keyword while importing:"
   ]
  },
  {
   "cell_type": "code",
   "execution_count": 3,
   "id": "db570eb0",
   "metadata": {},
   "outputs": [],
   "source": [
    "import numpy as np"
   ]
  },
  {
   "cell_type": "markdown",
   "id": "7ce9c454",
   "metadata": {},
   "source": [
    "Now the NumPy package can be refered to as np instead of numpy."
   ]
  },
  {
   "cell_type": "code",
   "execution_count": 4,
   "id": "388ec681",
   "metadata": {},
   "outputs": [
    {
     "name": "stdout",
     "output_type": "stream",
     "text": [
      "[1 2 3 4 5]\n"
     ]
    }
   ],
   "source": [
    "import numpy as np\n",
    "arr = np.array([1, 2, 3, 4, 5])\n",
    "print(arr)"
   ]
  },
  {
   "cell_type": "markdown",
   "id": "3ad32b0d",
   "metadata": {},
   "source": [
    "**Checking NumPy Version**\n",
    "\n",
    "The version string is stored under __version__ attribute."
   ]
  },
  {
   "cell_type": "code",
   "execution_count": 5,
   "id": "054ca4e5",
   "metadata": {},
   "outputs": [
    {
     "name": "stdout",
     "output_type": "stream",
     "text": [
      "1.20.1\n"
     ]
    }
   ],
   "source": [
    "import numpy as np\n",
    "print(np.__version__)"
   ]
  },
  {
   "cell_type": "markdown",
   "id": "b507905d",
   "metadata": {},
   "source": [
    "https://www.w3schools.com/python/numpy/numpy_getting_started.asp"
   ]
  }
 ],
 "metadata": {
  "kernelspec": {
   "display_name": "Python 3",
   "language": "python",
   "name": "python3"
  },
  "language_info": {
   "codemirror_mode": {
    "name": "ipython",
    "version": 3
   },
   "file_extension": ".py",
   "mimetype": "text/x-python",
   "name": "python",
   "nbconvert_exporter": "python",
   "pygments_lexer": "ipython3",
   "version": "3.8.8"
  }
 },
 "nbformat": 4,
 "nbformat_minor": 5
}
