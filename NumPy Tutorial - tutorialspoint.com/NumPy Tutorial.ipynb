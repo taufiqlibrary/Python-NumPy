{
 "cells": [
  {
   "cell_type": "markdown",
   "id": "6c3f74d3",
   "metadata": {},
   "source": [
    "**NumPy Tutorial**\n",
    "\n",
    "NumPy, which stands for Numerical Python, is a library consisting of multidimensional array objects and a collection of routines for processing those arrays. Using NumPy, mathematical and logical operations on arrays can be performed. This tutorial explains the basics of NumPy such as its architecture and environment. It also discusses the various array functions, types of indexing, etc. An introduction to Matplotlib is also provided. All this is explained with the help of examples for better understanding.\n",
    "\n",
    "**Audience**\n",
    "\n",
    "This tutorial has been prepared for those who want to learn about the basics and various functions of NumPy. It is specifically useful for algorithm developers. After completing this tutorial, you will find yourself at a moderate level of expertise from where you can take yourself to higher levels of expertise.\n",
    "\n",
    "**Prerequisites**\n",
    "\n",
    "You should have a basic understanding of computer programming terminologies. A basic understanding of Python and any of the programming languages is a plus.\n",
    "\n",
    "https://www.tutorialspoint.com/numpy/"
   ]
  }
 ],
 "metadata": {
  "kernelspec": {
   "display_name": "Python 3",
   "language": "python",
   "name": "python3"
  },
  "language_info": {
   "codemirror_mode": {
    "name": "ipython",
    "version": 3
   },
   "file_extension": ".py",
   "mimetype": "text/x-python",
   "name": "python",
   "nbconvert_exporter": "python",
   "pygments_lexer": "ipython3",
   "version": "3.8.8"
  }
 },
 "nbformat": 4,
 "nbformat_minor": 5
}
