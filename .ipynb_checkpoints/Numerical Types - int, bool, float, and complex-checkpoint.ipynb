{
 "cells": [
  {
   "cell_type": "markdown",
   "id": "5b0598a6",
   "metadata": {},
   "source": [
    "Since most of your data science and numerical calculations will tend to involve numbers, they seem like the best place to start. There are essentially four numerical types in NumPy code, and each one can take a few different sizes.\n",
    "\n",
    "The table below breaks down the details of these types:\n",
    "Name   # of Bits \tPython Type \tNumPy Type\n",
    "Integer \t64 \tint \tnp.int_\n",
    "Booleans \t8 \tbool \tnp.bool_\n",
    "Float \t64 \tfloat \tnp.float_\n",
    "Complex \t128 \tcomplex \tnp.complex_\n",
    "\n",
    "These are just the types that map to existing Python types. NumPy also has types for the smaller-sized versions of each, like 8-, 16-, and 32-bit integers, 32-bit single-precision floating-point numbers, and 64-bit single-precision complex numbers. The documentation lists them in their entirety.\n",
    "\n",
    "To specify the type when creating an array, you can provide a dtype argument:"
   ]
  },
  {
   "cell_type": "code",
   "execution_count": 1,
   "id": "b8ceb7b9",
   "metadata": {},
   "outputs": [],
   "source": [
    "import numpy as np\n",
    "a = np.array([1, 3, 5.5, 7.7, 9.2], dtype=np.single)"
   ]
  },
  {
   "cell_type": "code",
   "execution_count": 2,
   "id": "05f9571d",
   "metadata": {},
   "outputs": [
    {
     "data": {
      "text/plain": [
       "array([1. , 3. , 5.5, 7.7, 9.2], dtype=float32)"
      ]
     },
     "execution_count": 2,
     "metadata": {},
     "output_type": "execute_result"
    }
   ],
   "source": [
    "a"
   ]
  },
  {
   "cell_type": "code",
   "execution_count": 3,
   "id": "05f3290d",
   "metadata": {},
   "outputs": [],
   "source": [
    "b = np.array([1, 3, 5.5, 7.7, 9.2], dtype=np.uint8)"
   ]
  },
  {
   "cell_type": "code",
   "execution_count": 4,
   "id": "0310559a",
   "metadata": {},
   "outputs": [
    {
     "data": {
      "text/plain": [
       "array([1, 3, 5, 7, 9], dtype=uint8)"
      ]
     },
     "execution_count": 4,
     "metadata": {},
     "output_type": "execute_result"
    }
   ],
   "source": [
    "b"
   ]
  },
  {
   "cell_type": "markdown",
   "id": "5433cc5c",
   "metadata": {},
   "source": [
    "NumPy automatically converts your platform-independent type np.single to whatever fixed-size type your platform supports for that size. In this case, it uses np.float32. If your provided values don’t match the shape of the dtype you provided, then NumPy will either fix it for you or raise an error.\n",
    "\n",
    "https://realpython.com/numpy-tutorial/"
   ]
  }
 ],
 "metadata": {
  "kernelspec": {
   "display_name": "Python 3",
   "language": "python",
   "name": "python3"
  },
  "language_info": {
   "codemirror_mode": {
    "name": "ipython",
    "version": 3
   },
   "file_extension": ".py",
   "mimetype": "text/x-python",
   "name": "python",
   "nbconvert_exporter": "python",
   "pygments_lexer": "ipython3",
   "version": "3.8.8"
  }
 },
 "nbformat": 4,
 "nbformat_minor": 5
}
