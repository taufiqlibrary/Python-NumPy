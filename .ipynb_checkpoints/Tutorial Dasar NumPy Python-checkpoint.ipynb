{
 "cells": [
  {
   "cell_type": "markdown",
   "id": "690f46c6",
   "metadata": {},
   "source": [
    "NumPy merupakan salah satu library Python yang banyak digunakan dalam proses analisis data karena fiturnya yang hebat.\n",
    "\n",
    "NumPy hampir menyerupai List pada Python tetapi lebih powerful. Ada beberapa kelebihan NumPy dibandingan List seperti size, performance, dan functionally.\n",
    "\n",
    "Struktur data NumPy lebih membutuhkan ukuran yang lebih kecil dibandingkan dengan list tetapi mempunyai performa yang lebih cepat.\n",
    "\n",
    "Sebelum menggunakan NumPy di Python, terlebih dahulu library ini harus diimport"
   ]
  },
  {
   "cell_type": "code",
   "execution_count": 1,
   "id": "6446cb2f",
   "metadata": {},
   "outputs": [],
   "source": [
    "import numpy as np"
   ]
  },
  {
   "cell_type": "markdown",
   "id": "edf0c838",
   "metadata": {},
   "source": [
    "Jika belum ada Numpy dapat diinstall terlebih dahulu menggunakan pip\n",
    "\n",
    "pip install numpy"
   ]
  },
  {
   "cell_type": "markdown",
   "id": "6e9bd280",
   "metadata": {},
   "source": [
    "## **Membuat Array NumPy**\n",
    "\n",
    "Kita bisa membuat Array menggunakan NumPy dengan membungkusnya terlebih dahulu di List dan dirubah menjadi NumPy array."
   ]
  },
  {
   "cell_type": "code",
   "execution_count": 2,
   "id": "9279717f",
   "metadata": {},
   "outputs": [
    {
     "data": {
      "text/plain": [
       "array([[1, 2, 3, 4, 5]])"
      ]
     },
     "execution_count": 2,
     "metadata": {},
     "output_type": "execute_result"
    }
   ],
   "source": [
    "listku = [1,2,3,4,5]\n",
    "arrku = np.array([listku])\n",
    "arrku"
   ]
  },
  {
   "cell_type": "code",
   "execution_count": 4,
   "id": "562e9609",
   "metadata": {},
   "outputs": [
    {
     "data": {
      "text/plain": [
       "array([1, 2, 3, 4, 5])"
      ]
     },
     "execution_count": 4,
     "metadata": {},
     "output_type": "execute_result"
    }
   ],
   "source": [
    "# atau langsung tanpa membuat variabel list terlebih dahulu\n",
    "\n",
    "arrku = np.array([1,2,3,4,5])\n",
    "arrku"
   ]
  },
  {
   "cell_type": "markdown",
   "id": "592191e6",
   "metadata": {},
   "source": [
    "Ada beberapa fungsi lagi yang dapat digunakan dalam membuat array antara lain zeros(), ones(), linspace(), logspace().\n",
    "\n",
    "zeros() -> Membuat array dengan nilai 0\n",
    "ones() -> Membuat array dengan nilai 1\n",
    "arange() -> Membuat array dengan nilai dalam range\n",
    "linspace() -> Membuat array dengan nilai dalam interval\n",
    "logspace() -> Membuat array dengan nilai log Base10 dalam interval\n",
    "\n",
    "Berikut contohnya"
   ]
  },
  {
   "cell_type": "code",
   "execution_count": 8,
   "id": "e0abd226",
   "metadata": {},
   "outputs": [
    {
     "data": {
      "text/plain": [
       "array([0., 0., 0., 0., 0.])"
      ]
     },
     "execution_count": 8,
     "metadata": {},
     "output_type": "execute_result"
    }
   ],
   "source": [
    "np.zeros(5) # Membuat array dengan nilai 0 sebanyak 5"
   ]
  },
  {
   "cell_type": "code",
   "execution_count": 9,
   "id": "2cb45acc",
   "metadata": {},
   "outputs": [
    {
     "data": {
      "text/plain": [
       "array([1., 1., 1., 1., 1.])"
      ]
     },
     "execution_count": 9,
     "metadata": {},
     "output_type": "execute_result"
    }
   ],
   "source": [
    "np.ones(5) # Membuat array dengan nilai 1 sebanyak 5"
   ]
  },
  {
   "cell_type": "code",
   "execution_count": 10,
   "id": "5cb51174",
   "metadata": {},
   "outputs": [
    {
     "data": {
      "text/plain": [
       "array([1, 3, 5, 7, 9])"
      ]
     },
     "execution_count": 10,
     "metadata": {},
     "output_type": "execute_result"
    }
   ],
   "source": [
    "np.arange(1, 10, 2) # arrange(start, stop, step)"
   ]
  },
  {
   "cell_type": "code",
   "execution_count": 11,
   "id": "199226ef",
   "metadata": {},
   "outputs": [
    {
     "data": {
      "text/plain": [
       "array([ 1., 10.])"
      ]
     },
     "execution_count": 11,
     "metadata": {},
     "output_type": "execute_result"
    }
   ],
   "source": [
    "np.linspace(1, 10, 2) # linespace(sstart, stop, number)"
   ]
  },
  {
   "cell_type": "code",
   "execution_count": 12,
   "id": "9a2ddacc",
   "metadata": {},
   "outputs": [
    {
     "data": {
      "text/plain": [
       "array([1.e+01, 1.e+10])"
      ]
     },
     "execution_count": 12,
     "metadata": {},
     "output_type": "execute_result"
    }
   ],
   "source": [
    "np.logspace(1, 10, 2) # logspace(start, stop, number)"
   ]
  },
  {
   "cell_type": "markdown",
   "id": "173d26b9",
   "metadata": {},
   "source": [
    "## **Multidimensional Array**\n",
    "\n",
    "Salah satu fitur menarik NumPy adalah dia mampu membuat multidimensional array dan melakukan manipulasi array dengan mudah dan cepat.\n",
    "\n",
    "Multidimensional array adalah array yang berbentuk lebih dari 1 dimensi (1D), bisa 2D, 3D, 4D dan seterusnya.\n",
    "\n",
    "Cara membuat multidimensional array sama dengan membuat array 1 dimensi, perbedaannya hanya pada parameter yang digunakan.\n",
    "\n",
    "Berikut contohnya membuat array 2 dimensi."
   ]
  },
  {
   "cell_type": "code",
   "execution_count": 16,
   "id": "5328f91b",
   "metadata": {},
   "outputs": [
    {
     "data": {
      "text/plain": [
       "array([[ 1,  2,  3,  4,  5],\n",
       "       [ 2,  4,  6,  8, 10]])"
      ]
     },
     "execution_count": 16,
     "metadata": {},
     "output_type": "execute_result"
    }
   ],
   "source": [
    "arrku = np.array([[1,2,3,4,5],[2,4,6,8,10]])\n",
    "arrku"
   ]
  },
  {
   "cell_type": "markdown",
   "id": "70390e1b",
   "metadata": {},
   "source": [
    "Array di atas adalah berbentuk (2,5) artinya mempunyai 2 baris dan 5 kolom. Kita bisa melihat jumlah elemen di setiap dimensi dengan menggunakan shape."
   ]
  },
  {
   "cell_type": "code",
   "execution_count": 15,
   "id": "3837d178",
   "metadata": {},
   "outputs": [
    {
     "data": {
      "text/plain": [
       "(2, 5)"
      ]
     },
     "execution_count": 15,
     "metadata": {},
     "output_type": "execute_result"
    }
   ],
   "source": [
    "arrku.shape"
   ]
  },
  {
   "cell_type": "markdown",
   "id": "0b94c2d7",
   "metadata": {},
   "source": [
    "## **Indexing dan Slicing**\n",
    "\n",
    "Kita juga dapat melakukan indexing dan slicing terhadap array dengan mudah.\n",
    "\n",
    "Indexing dimulai dari 0 dan dimulai dengan notasi bracket \"[]\"\n",
    "\n",
    "Misal kita ingin mencari nilai yang berbeda di index 0, 2, dan 4."
   ]
  },
  {
   "cell_type": "code",
   "execution_count": 17,
   "id": "e1dafdbd",
   "metadata": {},
   "outputs": [
    {
     "name": "stdout",
     "output_type": "stream",
     "text": [
      "1\n",
      "3\n",
      "5\n"
     ]
    }
   ],
   "source": [
    "arr_A = np.array([1,2,3,4,5])\n",
    "print(arr_A[0])\n",
    "print(arr_A[2])\n",
    "print(arr_A[4])"
   ]
  },
  {
   "cell_type": "markdown",
   "id": "8f1a99fb",
   "metadata": {},
   "source": [
    "Untuk mengambil nilai berderet tambahkan \":\""
   ]
  },
  {
   "cell_type": "code",
   "execution_count": 18,
   "id": "d589e467",
   "metadata": {},
   "outputs": [
    {
     "name": "stdout",
     "output_type": "stream",
     "text": [
      "[1 2 3 4]\n"
     ]
    }
   ],
   "source": [
    "arr_A = np.array([1,2,3,4,5])\n",
    "print(arr_A[0:4])"
   ]
  },
  {
   "cell_type": "code",
   "execution_count": 19,
   "id": "7d3281b8",
   "metadata": {},
   "outputs": [
    {
     "name": "stdout",
     "output_type": "stream",
     "text": [
      "[[ 1  2  3  4  5]\n",
      " [ 2  4  6  8 10]]\n",
      "4\n"
     ]
    }
   ],
   "source": [
    "# Kita juga dapat melakukan slicing di multidimensional array\n",
    "\n",
    "arr_A = np.array([[1,2,3,4,5], [2,4,6,8,10]])\n",
    "print(arr_A)\n",
    "print(arr_A[1,1])"
   ]
  },
  {
   "cell_type": "markdown",
   "id": "2b822559",
   "metadata": {},
   "source": [
    "Nilai pada kolom index ke-1 dan baris index ke-1 adalah 4"
   ]
  },
  {
   "cell_type": "markdown",
   "id": "cc67b278",
   "metadata": {},
   "source": [
    "## **Operasi Aritmatika**\n",
    "\n",
    "Kita bisa menggunakan operasi aritmatika seperti penjumlahan, pengurangan, perkalian, pembagian dan perpangkatan.\n",
    "\n",
    "Operator yang digunakan adalah +, -, *, / dan **\n",
    "\n",
    "Berikut contoh operasi aritmatika pada array"
   ]
  },
  {
   "cell_type": "code",
   "execution_count": 22,
   "id": "25dcdcd9",
   "metadata": {},
   "outputs": [
    {
     "name": "stdout",
     "output_type": "stream",
     "text": [
      "Penjumlahan =  [3 4 5 6 7]\n",
      "Pengurangan =  [-1  0  1  2  3]\n",
      "Perkalian =  [ 2  4  6  8 10]\n",
      "Pembagian =  [0.5 1.  1.5 2.  2.5]\n"
     ]
    }
   ],
   "source": [
    "arr_A = np.array([1,2,3,4,5])\n",
    "arr_B = np.array([2,2,2,2,2])\n",
    "\n",
    "print(\"Penjumlahan = \", arr_A + arr_B)\n",
    "print(\"Pengurangan = \", arr_A - arr_B)\n",
    "print(\"Perkalian = \", arr_A * arr_B)\n",
    "print(\"Pembagian = \", arr_A / arr_B)\n",
    "#print{\"Perpangkatan = \", arr_A ** arr_B}"
   ]
  },
  {
   "cell_type": "markdown",
   "id": "c5ce5dce",
   "metadata": {},
   "source": [
    "## **Operasi Matematika**\n",
    "\n",
    "NumPy mempunyai fungsi matematika yang dapat digunakan pada Array\n",
    "\n",
    "Beberapa contoh fungsi statistik antara lain min(), max(), mean(), sum(), std()"
   ]
  },
  {
   "cell_type": "code",
   "execution_count": 23,
   "id": "90be96f6",
   "metadata": {},
   "outputs": [
    {
     "name": "stdout",
     "output_type": "stream",
     "text": [
      "Nilai minimal =  1\n",
      "Nilai maksimal =  5\n",
      "Nilai rata-rata =  3.0\n",
      "Total nilai =  15\n",
      "Standar Deviasi =  1.4142135623730951\n"
     ]
    }
   ],
   "source": [
    "arrku = np.array([1,2,3,4,5])\n",
    "print(\"Nilai minimal = \", arrku.min())\n",
    "print(\"Nilai maksimal = \", arrku.max())\n",
    "print(\"Nilai rata-rata = \", arrku.mean())\n",
    "print(\"Total nilai = \", arrku.sum())\n",
    "print(\"Standar Deviasi = \", arrku.std())"
   ]
  },
  {
   "cell_type": "code",
   "execution_count": 24,
   "id": "89fc8f2d",
   "metadata": {},
   "outputs": [
    {
     "name": "stdout",
     "output_type": "stream",
     "text": [
      "Index nilai minimal =  0\n",
      "Index nilai maksimal =  4\n"
     ]
    }
   ],
   "source": [
    "# ada juga fungsi argmin() dan argmax() untuk mendapatkan index dari nilai minimum dan maksimum\n",
    "print(\"Index nilai minimal = \", arrku.argmin())\n",
    "print(\"Index nilai maksimal = \", arrku.argmax())"
   ]
  },
  {
   "cell_type": "markdown",
   "id": "486fafc2",
   "metadata": {},
   "source": [
    "Sumber https://ngodingdata.com/tutorial-dasar-numpy-python/"
   ]
  }
 ],
 "metadata": {
  "kernelspec": {
   "display_name": "Python 3",
   "language": "python",
   "name": "python3"
  },
  "language_info": {
   "codemirror_mode": {
    "name": "ipython",
    "version": 3
   },
   "file_extension": ".py",
   "mimetype": "text/x-python",
   "name": "python",
   "nbconvert_exporter": "python",
   "pygments_lexer": "ipython3",
   "version": "3.8.8"
  }
 },
 "nbformat": 4,
 "nbformat_minor": 5
}
