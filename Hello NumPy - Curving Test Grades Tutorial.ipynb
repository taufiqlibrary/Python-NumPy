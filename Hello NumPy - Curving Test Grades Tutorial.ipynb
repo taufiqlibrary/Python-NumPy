{
 "cells": [
  {
   "cell_type": "markdown",
   "id": "35e33ab9",
   "metadata": {},
   "source": [
    "## **Hello NumPy: Curving Test Grades Tutorial**\n",
    "\n",
    "This first example introduces a few core concepts in NumPy that you’ll use throughout the rest of the tutorial:\n",
    "* Creating arrays using numpy.array()\n",
    "* Treating complete arrays like individual values to make vectorized calculations more readable\n",
    "* Using built-in NumPy functions to modify and aggregate the data\n",
    "\n",
    "These concepts are the core of using NumPy effectively.\n",
    "\n",
    "The scenario is this: You’re a teacher who has just graded your students on a recent test. Unfortunately, you may have made the test too challenging, and most of the students did worse than expected. To help everybody out, you’re going to curve everyone’s grades.\n",
    "\n",
    "It’ll be a relatively rudimentary curve, though. You’ll take whatever the average score is and declare that a C. Additionally, you’ll make sure that the curve doesn’t accidentally hurt your students’ grades or help so much that the student does better than 100%.\n",
    "\n",
    "Enter this code into your REPL:"
   ]
  },
  {
   "cell_type": "code",
   "execution_count": 1,
   "id": "b563a8d7",
   "metadata": {},
   "outputs": [
    {
     "data": {
      "text/plain": [
       "array([ 91.25,  54.25,  83.25, 100.  ,  70.25, 100.  ,  93.25,  31.25])"
      ]
     },
     "execution_count": 1,
     "metadata": {},
     "output_type": "execute_result"
    }
   ],
   "source": [
    "import numpy as np\n",
    "CURVE_CENTER = 80\n",
    "grades = np.array([72, 35, 64, 88, 51, 90, 74, 12])\n",
    "def curve(grades):\n",
    "    average = grades.mean()\n",
    "    change = CURVE_CENTER - average\n",
    "    new_grades = grades + change\n",
    "    return np.clip(new_grades, grades, 100)\n",
    "curve(grades)"
   ]
  },
  {
   "cell_type": "markdown",
   "id": "81e920b1",
   "metadata": {},
   "source": [
    "The original scores have been increased based on where they were in the pack, but none of them were pushed over 100%.\n",
    "\n",
    "Here are the important highlights:\n",
    "* Line 1 imports NumPy using the np alias, which is a common convention that saves you a few keystrokes.\n",
    "* Line 3 creates your first NumPy array, which is one-dimensional and has a shape of (8,) and a data type of int64. Don’t worry too much about these details yet. You’ll explore them in more detail later in the tutorial.\n",
    "* Line 5 takes the average of all the scores using .mean(). Arrays have a lot of methods.\n",
    "\n",
    "On line 7, you take advantage of two important concepts at once:\n",
    "* Vectorization\n",
    "* Broadcasting\n",
    "\n",
    "Vectorization is the process of performing the same operation in the same way for each element in an array. This removes for loops from your code but achieves the same result.\n",
    "\n",
    "Broadcasting is the process of extending two arrays of different shapes and figuring out how to perform a vectorized calculation between them. Remember, grades is an array of numbers of shape (8,) and change is a scalar, or single number, essentially with shape (1,). In this case, NumPy adds the scalar to each item in the array and returns a new array with the results.\n",
    "\n",
    "Finally, on line 8, you limit, or clip, the values to a set of minimums and maximums. In addition to array methods, NumPy also has a large number of built-in functions. You don’t need to memorize them all—that’s what documentation is for. Anytime you get stuck or feel like there should be an easier way to do something, take a peek at the documentation and see if there isn’t already a routine that does exactly what you need.\n",
    "\n",
    "In this case, you need a function that takes an array and makes sure the values don’t exceed a given minimum or maximum. clip() does exactly that.\n",
    "\n",
    "Line 8 also provides another example of broadcasting. For the second argument to clip(), you pass grades, ensuring that each newly curved grade doesn’t go lower than the original grade. But for the third argument, you pass a single value: 100. NumPy takes that value and broadcasts it against every element in new_grades, ensuring that none of the newly curved grades exceeds a perfect score.\n",
    "\n",
    "https://realpython.com/numpy-tutorial/"
   ]
  }
 ],
 "metadata": {
  "kernelspec": {
   "display_name": "Python 3",
   "language": "python",
   "name": "python3"
  },
  "language_info": {
   "codemirror_mode": {
    "name": "ipython",
    "version": 3
   },
   "file_extension": ".py",
   "mimetype": "text/x-python",
   "name": "python",
   "nbconvert_exporter": "python",
   "pygments_lexer": "ipython3",
   "version": "3.8.8"
  }
 },
 "nbformat": 4,
 "nbformat_minor": 5
}
