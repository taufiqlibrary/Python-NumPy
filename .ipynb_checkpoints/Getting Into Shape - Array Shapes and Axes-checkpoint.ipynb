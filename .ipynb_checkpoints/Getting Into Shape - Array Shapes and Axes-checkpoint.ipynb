{
 "cells": [
  {
   "cell_type": "markdown",
   "id": "eb381e63",
   "metadata": {},
   "source": [
    "Now that you’ve seen some of what NumPy can do, it’s time to firm up that foundation with some important theory. There are a few concepts that are important to keep in mind, especially as you work with arrays in higher dimensions.\n",
    "\n",
    "Vectors, which are one-dimensional arrays of numbers, are the least complicated to keep track of. Two dimensions aren’t too bad, either, because they’re similar to spreadsheets. But things start to get tricky at three dimensions, and visualizing four? Forget about it."
   ]
  },
  {
   "cell_type": "markdown",
   "id": "9b3a16a1",
   "metadata": {},
   "source": [
    "## **Mastering Shape**\n",
    "\n",
    "Shape is a key concept when you’re using multidimensional arrays. At a certain point, it’s easier to forget about visualizing the shape of your data and to instead follow some mental rules and trust NumPy to tell you the correct shape.\n",
    "\n",
    "All arrays have a property called .shape that returns a tuple of the size in each dimension. It’s less important which dimension is which, but it’s critical that the arrays you pass to functions are in the shape that the functions expect. A common way to confirm that your data has the proper shape is to print the data and its shape until you’re sure everything is working like you expect.\n",
    "\n",
    "This next example will show this process. You’ll create an array with a complex shape, check it, and reorder it to look like it’s supposed to:"
   ]
  },
  {
   "cell_type": "code",
   "execution_count": 1,
   "id": "0b9f3dab",
   "metadata": {},
   "outputs": [],
   "source": [
    "import numpy as np"
   ]
  },
  {
   "cell_type": "code",
   "execution_count": 2,
   "id": "24cb6954",
   "metadata": {},
   "outputs": [],
   "source": [
    "temperatures = np.array([\n",
    "    29.3, 42.1, 18.8, 16.1, 38.0, 12.5,\n",
    "    12.6, 49.9, 38.6, 31.3, 9.2, 22.2\n",
    "]).reshape(2, 2, 3)"
   ]
  },
  {
   "cell_type": "code",
   "execution_count": 3,
   "id": "a932cc34",
   "metadata": {},
   "outputs": [
    {
     "data": {
      "text/plain": [
       "(2, 2, 3)"
      ]
     },
     "execution_count": 3,
     "metadata": {},
     "output_type": "execute_result"
    }
   ],
   "source": [
    "temperatures.shape"
   ]
  },
  {
   "cell_type": "code",
   "execution_count": 4,
   "id": "5c87080c",
   "metadata": {},
   "outputs": [
    {
     "data": {
      "text/plain": [
       "array([[[29.3, 42.1, 18.8],\n",
       "        [16.1, 38. , 12.5]],\n",
       "\n",
       "       [[12.6, 49.9, 38.6],\n",
       "        [31.3,  9.2, 22.2]]])"
      ]
     },
     "execution_count": 4,
     "metadata": {},
     "output_type": "execute_result"
    }
   ],
   "source": [
    "temperatures"
   ]
  },
  {
   "cell_type": "code",
   "execution_count": 5,
   "id": "71b535e2",
   "metadata": {},
   "outputs": [
    {
     "data": {
      "text/plain": [
       "array([[[29.3, 16.1],\n",
       "        [42.1, 38. ],\n",
       "        [18.8, 12.5]],\n",
       "\n",
       "       [[12.6, 31.3],\n",
       "        [49.9,  9.2],\n",
       "        [38.6, 22.2]]])"
      ]
     },
     "execution_count": 5,
     "metadata": {},
     "output_type": "execute_result"
    }
   ],
   "source": [
    "np.swapaxes(temperatures, 1, 2)"
   ]
  },
  {
   "cell_type": "markdown",
   "id": "155ea20c",
   "metadata": {},
   "source": [
    "Here, you use a numpy.ndarray method called .reshape() to form a 2 × 2 × 3 block of data. When you check the shape of your array in input 3, it’s exactly what you told it to be. However, you can see how printed arrays quickly become hard to visualize in three or more dimensions. After you swap axes with .swapaxes(), it becomes little clearer which dimension is which. You’ll see more about axes in the next section.\n",
    "\n",
    "Shape will come up again in the section on broadcasting. For now, just keep in mind that these little checks don’t cost anything. You can always delete the cells or get rid of the code once things are running smoothly.\n",
    "\n",
    "https://realpython.com/numpy-tutorial/ "
   ]
  }
 ],
 "metadata": {
  "kernelspec": {
   "display_name": "Python 3",
   "language": "python",
   "name": "python3"
  },
  "language_info": {
   "codemirror_mode": {
    "name": "ipython",
    "version": 3
   },
   "file_extension": ".py",
   "mimetype": "text/x-python",
   "name": "python",
   "nbconvert_exporter": "python",
   "pygments_lexer": "ipython3",
   "version": "3.8.8"
  }
 },
 "nbformat": 4,
 "nbformat_minor": 5
}
