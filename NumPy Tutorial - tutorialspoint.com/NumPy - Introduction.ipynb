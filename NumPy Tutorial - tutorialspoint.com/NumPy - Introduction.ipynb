{
 "cells": [
  {
   "cell_type": "markdown",
   "id": "e28e9434",
   "metadata": {},
   "source": [
    "**NumPy - Introduction**\n",
    "\n",
    "NumPy is a Python package. It stands for 'Numerical Python'. It is a library consisting of multidimensional array objects and a collection of routines for processing of array.\n",
    "\n",
    "**Numeric**, the ancestor of NumPy, was developed by Jim Hugunin. Another package Numarray was also developed, having some additional functionalities. In 2005, Travis Oliphant created NumPy package by incorporating the features of Numarray into Numeric package. There are many contributors to this open source project.\n",
    "\n",
    "**Operations using NumPy**\n",
    "\n",
    "Using NumPy, a developer can perform the following operations −\n",
    "* Mathematical and logical operations on arrays.\n",
    "* Fourier transforms and routines for shape manipulation.\n",
    "* Operations related to linear algebra. NumPy has in-built functions for linear algebra and random number generation.\n",
    "\n",
    "**NumPy – A Replacement for MatLab**\n",
    "\n",
    "NumPy is often used along with packages like **SciPy** (Scientific Python) and **Mat−plotlib** (plotting library). This combination is widely used as a replacement for MatLab, a popular platform for technical computing. However, Python alternative to MatLab is now seen as a more modern and complete programming language.\n",
    "\n",
    "It is open source, which is an added advantage of NumPy.\n",
    "\n",
    "https://www.tutorialspoint.com/numpy/numpy_introduction.htm"
   ]
  }
 ],
 "metadata": {
  "kernelspec": {
   "display_name": "Python 3",
   "language": "python",
   "name": "python3"
  },
  "language_info": {
   "codemirror_mode": {
    "name": "ipython",
    "version": 3
   },
   "file_extension": ".py",
   "mimetype": "text/x-python",
   "name": "python",
   "nbconvert_exporter": "python",
   "pygments_lexer": "ipython3",
   "version": "3.8.8"
  }
 },
 "nbformat": 4,
 "nbformat_minor": 5
}
