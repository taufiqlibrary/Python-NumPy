{
 "cells": [
  {
   "cell_type": "markdown",
   "id": "15101e30",
   "metadata": {},
   "source": [
    "Index-based selection is great, but what if you want to filter your data based on more complicated nonuniform or nonsequential criteria? This is where the concept of a mask comes into play.\n",
    "\n",
    "A mask is an array that has the exact same shape as your data, but instead of your values, it holds Boolean values: either True or False. You can use this mask array to index into your data array in nonlinear and complex ways. It will return all of the elements where the Boolean array has a True value.\n",
    "\n",
    "Here’s an example showing the process, first in slow motion and then how it’s typically done, all in one line:"
   ]
  },
  {
   "cell_type": "code",
   "execution_count": 1,
   "id": "40005e4f",
   "metadata": {},
   "outputs": [],
   "source": [
    "import numpy as np"
   ]
  },
  {
   "cell_type": "code",
   "execution_count": 2,
   "id": "3f4425a0",
   "metadata": {},
   "outputs": [],
   "source": [
    "numbers = np.linspace(5, 50, 24, dtype=int).reshape(4, -1)"
   ]
  },
  {
   "cell_type": "code",
   "execution_count": 3,
   "id": "512b28ac",
   "metadata": {},
   "outputs": [
    {
     "data": {
      "text/plain": [
       "array([[ 5,  6,  8, 10, 12, 14],\n",
       "       [16, 18, 20, 22, 24, 26],\n",
       "       [28, 30, 32, 34, 36, 38],\n",
       "       [40, 42, 44, 46, 48, 50]])"
      ]
     },
     "execution_count": 3,
     "metadata": {},
     "output_type": "execute_result"
    }
   ],
   "source": [
    "numbers"
   ]
  },
  {
   "cell_type": "code",
   "execution_count": 4,
   "id": "da01c876",
   "metadata": {},
   "outputs": [],
   "source": [
    "mask = numbers % 4 == 0"
   ]
  },
  {
   "cell_type": "code",
   "execution_count": 5,
   "id": "5d6c643c",
   "metadata": {},
   "outputs": [
    {
     "data": {
      "text/plain": [
       "array([[False, False,  True, False,  True, False],\n",
       "       [ True, False,  True, False,  True, False],\n",
       "       [ True, False,  True, False,  True, False],\n",
       "       [ True, False,  True, False,  True, False]])"
      ]
     },
     "execution_count": 5,
     "metadata": {},
     "output_type": "execute_result"
    }
   ],
   "source": [
    "mask"
   ]
  },
  {
   "cell_type": "code",
   "execution_count": 6,
   "id": "992fdd32",
   "metadata": {},
   "outputs": [
    {
     "data": {
      "text/plain": [
       "array([ 8, 12, 16, 20, 24, 28, 32, 36, 40, 44, 48])"
      ]
     },
     "execution_count": 6,
     "metadata": {},
     "output_type": "execute_result"
    }
   ],
   "source": [
    "numbers[mask]"
   ]
  },
  {
   "cell_type": "code",
   "execution_count": 7,
   "id": "50aa0e31",
   "metadata": {},
   "outputs": [],
   "source": [
    "by_four = numbers[numbers % 4 == 0]"
   ]
  },
  {
   "cell_type": "code",
   "execution_count": 8,
   "id": "0bc26630",
   "metadata": {},
   "outputs": [
    {
     "data": {
      "text/plain": [
       "array([ 8, 12, 16, 20, 24, 28, 32, 36, 40, 44, 48])"
      ]
     },
     "execution_count": 8,
     "metadata": {},
     "output_type": "execute_result"
    }
   ],
   "source": [
    "by_four"
   ]
  },
  {
   "cell_type": "markdown",
   "id": "bc71ba43",
   "metadata": {},
   "source": [
    "You’ll see an explanation of the new array creation tricks in input 2 in a moment, but for now, focus on the meat of the example. These are the important parts:\n",
    "* Input 4 creates the mask by performing a vectorized Boolean computation, taking each element and checking to see if it divides evenly by four. This returns a mask array of the same shape with the element-wise results of the computation.\n",
    "* Input 6 uses this mask to index into the original numbers array. This causes the array to lose its original shape, reducing it to one dimension, but you still get the data you’re looking for.\n",
    "* Input 7 provides a more traditional, idiomatic masked selection that you might see in the wild, with an anonymous filtering array created inline, inside the selection brackets. This syntax is similar to usage in the R programming language.\n",
    "\n",
    "Coming back to input 2, you encounter three new concepts:\n",
    "1. Using np.linspace() to generate an evenly spaced array\n",
    "2. Setting the dtype of an output\n",
    "3. Reshaping an array with -1\n",
    "\n",
    "np.linspace() generates n numbers evenly distributed between a minimum and a maximum, which is useful for evenly distributed sampling in scientific plotting.\n",
    "\n",
    "Because of the particular calculation in this example, it makes life easier to have integers in the numbers array. But because the space between 5 and 50 doesn’t divide evenly by 24, the resulting numbers would be floating-point numbers. You specify a dtype of int to force the function to round down and give you whole integers. You’ll see a more detailed discussion of data types later on.\n",
    "\n",
    "Finally, array.reshape() can take -1 as one of its dimension sizes. That signifies that NumPy should just figure out how big that particular axis needs to be based on the size of the other axes. In this case, with 24 values and a size of 4 in axis 0, axis 1 ends up with a size of 6.\n",
    "\n",
    "Here’s one more example to show off the power of masked filtering. The normal distribution is a probability distribution in which roughly 95.45% of values occur within two standard deviations of the mean.\n",
    "\n",
    "You can verify that with a little help from NumPy’s random module for generating random values:"
   ]
  },
  {
   "cell_type": "code",
   "execution_count": 9,
   "id": "53addb73",
   "metadata": {},
   "outputs": [],
   "source": [
    "import numpy as np"
   ]
  },
  {
   "cell_type": "code",
   "execution_count": 10,
   "id": "38827e49",
   "metadata": {},
   "outputs": [],
   "source": [
    "from numpy.random import default_rng"
   ]
  },
  {
   "cell_type": "code",
   "execution_count": 11,
   "id": "070dfd78",
   "metadata": {},
   "outputs": [],
   "source": [
    "rng = default_rng()"
   ]
  },
  {
   "cell_type": "code",
   "execution_count": 12,
   "id": "76e456cf",
   "metadata": {},
   "outputs": [],
   "source": [
    "values = rng.standard_normal(10000)"
   ]
  },
  {
   "cell_type": "code",
   "execution_count": 13,
   "id": "8c206a64",
   "metadata": {},
   "outputs": [
    {
     "data": {
      "text/plain": [
       "array([0.9857375 , 0.72932075, 0.52436588, 0.73058489, 0.80136922])"
      ]
     },
     "execution_count": 13,
     "metadata": {},
     "output_type": "execute_result"
    }
   ],
   "source": [
    "values[:5]"
   ]
  },
  {
   "cell_type": "code",
   "execution_count": 14,
   "id": "324f774f",
   "metadata": {},
   "outputs": [],
   "source": [
    "std = values.std()"
   ]
  },
  {
   "cell_type": "code",
   "execution_count": 15,
   "id": "cc1808eb",
   "metadata": {},
   "outputs": [
    {
     "data": {
      "text/plain": [
       "0.99358336410414"
      ]
     },
     "execution_count": 15,
     "metadata": {},
     "output_type": "execute_result"
    }
   ],
   "source": [
    "std"
   ]
  },
  {
   "cell_type": "code",
   "execution_count": 17,
   "id": "53299734",
   "metadata": {},
   "outputs": [],
   "source": [
    "filtered = values[(values > -2 * std) & (values < 2 * std)]"
   ]
  },
  {
   "cell_type": "code",
   "execution_count": 18,
   "id": "b2b43023",
   "metadata": {},
   "outputs": [
    {
     "data": {
      "text/plain": [
       "9534"
      ]
     },
     "execution_count": 18,
     "metadata": {},
     "output_type": "execute_result"
    }
   ],
   "source": [
    "filtered.size"
   ]
  },
  {
   "cell_type": "code",
   "execution_count": 19,
   "id": "8441579d",
   "metadata": {},
   "outputs": [
    {
     "data": {
      "text/plain": [
       "10000"
      ]
     },
     "execution_count": 19,
     "metadata": {},
     "output_type": "execute_result"
    }
   ],
   "source": [
    "values.size"
   ]
  },
  {
   "cell_type": "code",
   "execution_count": 20,
   "id": "493b38fb",
   "metadata": {},
   "outputs": [
    {
     "data": {
      "text/plain": [
       "0.9534"
      ]
     },
     "execution_count": 20,
     "metadata": {},
     "output_type": "execute_result"
    }
   ],
   "source": [
    "filtered.size / values.size"
   ]
  },
  {
   "cell_type": "markdown",
   "id": "d1d613c7",
   "metadata": {},
   "source": [
    "Here you use a potentially strange-looking syntax to combine filter conditions: a binary & operator. Why would that be the case? It’s because NumPy designates & and | as the vectorized, element-wise operators to combine Booleans. If you try to do A and B, then you’ll get a warning about how the truth value for an array is weird, because the and is operating on the truth value of the whole array, not element by element.\n",
    "\n",
    "https://realpython.com/numpy-tutorial/"
   ]
  }
 ],
 "metadata": {
  "kernelspec": {
   "display_name": "Python 3",
   "language": "python",
   "name": "python3"
  },
  "language_info": {
   "codemirror_mode": {
    "name": "ipython",
    "version": 3
   },
   "file_extension": ".py",
   "mimetype": "text/x-python",
   "name": "python",
   "nbconvert_exporter": "python",
   "pygments_lexer": "ipython3",
   "version": "3.8.8"
  }
 },
 "nbformat": 4,
 "nbformat_minor": 5
}
